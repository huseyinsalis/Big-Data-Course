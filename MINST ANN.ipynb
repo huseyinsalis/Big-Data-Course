{
 "cells": [
  {
   "cell_type": "code",
   "execution_count": 1,
   "metadata": {
    "scrolled": false
   },
   "outputs": [
    {
     "name": "stdout",
     "output_type": "stream",
     "text": [
      "Train on 60000 samples, validate on 10000 samples\n",
      "Epoch 1/100\n",
      "60000/60000 [==============================] - 7s 109us/sample - loss: 0.5786 - accuracy: 0.8525 - val_loss: 0.2978 - val_accuracy: 0.9196\n",
      "Epoch 2/100\n",
      "60000/60000 [==============================] - 6s 96us/sample - loss: 0.2800 - accuracy: 0.9205 - val_loss: 0.2341 - val_accuracy: 0.9341\n",
      "Epoch 3/100\n",
      "60000/60000 [==============================] - 7s 118us/sample - loss: 0.2284 - accuracy: 0.9351 - val_loss: 0.1990 - val_accuracy: 0.9429\n",
      "Epoch 4/100\n",
      "60000/60000 [==============================] - 6s 108us/sample - loss: 0.1946 - accuracy: 0.9445 - val_loss: 0.1739 - val_accuracy: 0.9489\n",
      "Epoch 5/100\n",
      "60000/60000 [==============================] - 6s 98us/sample - loss: 0.1698 - accuracy: 0.9508 - val_loss: 0.1554 - val_accuracy: 0.9535\n",
      "Epoch 6/100\n",
      "60000/60000 [==============================] - 7s 109us/sample - loss: 0.1500 - accuracy: 0.9568 - val_loss: 0.1415 - val_accuracy: 0.9584\n",
      "Epoch 7/100\n",
      "60000/60000 [==============================] - 7s 115us/sample - loss: 0.1347 - accuracy: 0.9617 - val_loss: 0.1325 - val_accuracy: 0.9619\n",
      "Epoch 8/100\n",
      "60000/60000 [==============================] - 6s 104us/sample - loss: 0.1217 - accuracy: 0.9654 - val_loss: 0.1210 - val_accuracy: 0.9643\n",
      "Epoch 9/100\n",
      "60000/60000 [==============================] - 5s 89us/sample - loss: 0.1107 - accuracy: 0.9686 - val_loss: 0.1161 - val_accuracy: 0.9655\n",
      "Epoch 10/100\n",
      "60000/60000 [==============================] - 6s 95us/sample - loss: 0.1014 - accuracy: 0.9715 - val_loss: 0.1057 - val_accuracy: 0.9674\n",
      "Epoch 11/100\n",
      "60000/60000 [==============================] - 6s 95us/sample - loss: 0.0929 - accuracy: 0.9740 - val_loss: 0.1008 - val_accuracy: 0.9690\n",
      "Epoch 12/100\n",
      "60000/60000 [==============================] - 5s 87us/sample - loss: 0.0858 - accuracy: 0.9763 - val_loss: 0.0962 - val_accuracy: 0.9713\n",
      "Epoch 13/100\n",
      "60000/60000 [==============================] - 5s 90us/sample - loss: 0.0794 - accuracy: 0.9781 - val_loss: 0.0909 - val_accuracy: 0.9717\n",
      "Epoch 14/100\n",
      "60000/60000 [==============================] - 6s 94us/sample - loss: 0.0739 - accuracy: 0.9794 - val_loss: 0.0893 - val_accuracy: 0.9715\n",
      "Epoch 15/100\n",
      "60000/60000 [==============================] - 5s 90us/sample - loss: 0.0686 - accuracy: 0.9811 - val_loss: 0.0857 - val_accuracy: 0.9733\n",
      "Epoch 16/100\n",
      "60000/60000 [==============================] - 5s 89us/sample - loss: 0.0643 - accuracy: 0.9824 - val_loss: 0.0845 - val_accuracy: 0.9733\n",
      "Epoch 17/100\n",
      "60000/60000 [==============================] - 6s 92us/sample - loss: 0.0600 - accuracy: 0.9834 - val_loss: 0.0807 - val_accuracy: 0.9738\n",
      "Epoch 18/100\n",
      "60000/60000 [==============================] - 5s 91us/sample - loss: 0.0562 - accuracy: 0.9848 - val_loss: 0.0807 - val_accuracy: 0.9742\n",
      "Epoch 19/100\n",
      "60000/60000 [==============================] - 5s 88us/sample - loss: 0.0527 - accuracy: 0.9859 - val_loss: 0.0781 - val_accuracy: 0.9755\n",
      "Epoch 20/100\n",
      "60000/60000 [==============================] - 6s 92us/sample - loss: 0.0491 - accuracy: 0.9871 - val_loss: 0.0790 - val_accuracy: 0.9756\n",
      "Epoch 21/100\n",
      "60000/60000 [==============================] - 5s 88us/sample - loss: 0.0464 - accuracy: 0.9880 - val_loss: 0.0741 - val_accuracy: 0.9767\n",
      "Epoch 22/100\n",
      "60000/60000 [==============================] - 6s 95us/sample - loss: 0.0435 - accuracy: 0.9886 - val_loss: 0.0722 - val_accuracy: 0.9767\n",
      "Epoch 23/100\n",
      "60000/60000 [==============================] - 6s 108us/sample - loss: 0.0411 - accuracy: 0.9893 - val_loss: 0.0719 - val_accuracy: 0.9769\n",
      "Epoch 24/100\n",
      "60000/60000 [==============================] - 6s 93us/sample - loss: 0.0387 - accuracy: 0.9903 - val_loss: 0.0707 - val_accuracy: 0.9771\n",
      "Epoch 25/100\n",
      "60000/60000 [==============================] - 6s 97us/sample - loss: 0.0365 - accuracy: 0.9910 - val_loss: 0.0722 - val_accuracy: 0.9776\n",
      "Epoch 26/100\n",
      "60000/60000 [==============================] - 5s 90us/sample - loss: 0.0344 - accuracy: 0.9913 - val_loss: 0.0719 - val_accuracy: 0.9768\n",
      "Epoch 27/100\n",
      "60000/60000 [==============================] - 6s 98us/sample - loss: 0.0325 - accuracy: 0.9918 - val_loss: 0.0689 - val_accuracy: 0.9787\n",
      "Epoch 28/100\n",
      "60000/60000 [==============================] - 6s 97us/sample - loss: 0.0305 - accuracy: 0.9928 - val_loss: 0.0692 - val_accuracy: 0.9771\n",
      "Epoch 29/100\n",
      "60000/60000 [==============================] - 7s 116us/sample - loss: 0.0289 - accuracy: 0.9931 - val_loss: 0.0696 - val_accuracy: 0.9778\n",
      "Epoch 30/100\n",
      "60000/60000 [==============================] - 6s 95us/sample - loss: 0.0272 - accuracy: 0.9937 - val_loss: 0.0683 - val_accuracy: 0.9791\n",
      "Epoch 31/100\n",
      "60000/60000 [==============================] - 6s 95us/sample - loss: 0.0260 - accuracy: 0.9945 - val_loss: 0.0678 - val_accuracy: 0.9779\n",
      "Epoch 32/100\n",
      "60000/60000 [==============================] - 8s 132us/sample - loss: 0.0245 - accuracy: 0.9947 - val_loss: 0.0658 - val_accuracy: 0.9798\n",
      "Epoch 33/100\n",
      "60000/60000 [==============================] - 6s 100us/sample - loss: 0.0232 - accuracy: 0.9951 - val_loss: 0.0671 - val_accuracy: 0.9790\n",
      "Epoch 34/100\n",
      "60000/60000 [==============================] - 5s 91us/sample - loss: 0.0220 - accuracy: 0.9954 - val_loss: 0.0667 - val_accuracy: 0.9785\n",
      "Epoch 35/100\n",
      "60000/60000 [==============================] - 6s 93us/sample - loss: 0.0207 - accuracy: 0.9959 - val_loss: 0.0696 - val_accuracy: 0.9776\n",
      "Epoch 36/100\n",
      "60000/60000 [==============================] - 6s 98us/sample - loss: 0.0196 - accuracy: 0.9963 - val_loss: 0.0673 - val_accuracy: 0.9784\n",
      "Epoch 37/100\n",
      "60000/60000 [==============================] - 6s 96us/sample - loss: 0.0187 - accuracy: 0.9967 - val_loss: 0.0658 - val_accuracy: 0.9790\n",
      "Epoch 38/100\n",
      "60000/60000 [==============================] - 5s 90us/sample - loss: 0.0177 - accuracy: 0.9970 - val_loss: 0.0661 - val_accuracy: 0.9795\n",
      "Epoch 39/100\n",
      "60000/60000 [==============================] - 6s 94us/sample - loss: 0.0170 - accuracy: 0.9971 - val_loss: 0.0669 - val_accuracy: 0.9786\n",
      "Epoch 40/100\n",
      "60000/60000 [==============================] - 5s 89us/sample - loss: 0.0160 - accuracy: 0.9976 - val_loss: 0.0668 - val_accuracy: 0.9784\n",
      "Epoch 41/100\n",
      "60000/60000 [==============================] - 6s 93us/sample - loss: 0.0151 - accuracy: 0.9977 - val_loss: 0.0663 - val_accuracy: 0.9788\n",
      "Epoch 42/100\n",
      "60000/60000 [==============================] - 6s 96us/sample - loss: 0.0144 - accuracy: 0.9982 - val_loss: 0.0659 - val_accuracy: 0.9799\n",
      "Epoch 43/100\n",
      "60000/60000 [==============================] - 5s 90us/sample - loss: 0.0137 - accuracy: 0.9982 - val_loss: 0.0668 - val_accuracy: 0.9797\n",
      "Epoch 44/100\n",
      "60000/60000 [==============================] - 5s 89us/sample - loss: 0.0130 - accuracy: 0.9982 - val_loss: 0.0660 - val_accuracy: 0.9798\n",
      "Epoch 45/100\n",
      "60000/60000 [==============================] - 5s 90us/sample - loss: 0.0125 - accuracy: 0.9985 - val_loss: 0.0661 - val_accuracy: 0.9794\n",
      "Epoch 46/100\n",
      "60000/60000 [==============================] - 5s 90us/sample - loss: 0.0118 - accuracy: 0.9986 - val_loss: 0.0660 - val_accuracy: 0.9798\n",
      "Epoch 47/100\n",
      "60000/60000 [==============================] - 6s 94us/sample - loss: 0.0113 - accuracy: 0.9986 - val_loss: 0.0660 - val_accuracy: 0.9797\n"
     ]
    }
   ],
   "source": [
    "from tensorflow import keras\n",
    "import datetime\n",
    "import os\n",
    "\n",
    "mnist = keras.datasets.mnist\n",
    "\n",
    "(x_train, y_train),(x_test, y_test) = mnist.load_data()\n",
    "x_train, x_test = x_train / 255.0, x_test / 255.0\n",
    "\n",
    "model = keras.models.Sequential([\n",
    "    keras.layers.Flatten(input_shape=[28, 28]),\n",
    "    keras.layers.Dense(300, activation=\"relu\"),\n",
    "    keras.layers.Dense(100, activation=\"relu\"),\n",
    "    keras.layers.Dense(10, activation=\"softmax\")\n",
    "])\n",
    "\n",
    "\n",
    "class_names = [\"T-shirt/top\", \"Trouser\", \"Pullover\", \"Dress\", \"Coat\",\n",
    "               \"Sandal\", \"Shirt\", \"Sneaker\", \"Bag\", \"Ankle boot\"]\n",
    "\n",
    "\n",
    "model.compile(loss=\"sparse_categorical_crossentropy\",\n",
    "              optimizer=\"sgd\",\n",
    "              metrics=[\"accuracy\"])\n",
    "\n",
    "\n",
    "root_logdir = os.path.join(os.curdir, \"logs\")\n",
    "\n",
    "def get_run_logdir():\n",
    "    import time\n",
    "    run_id = time.strftime(\"run_%Y_%m_%d-%H_%M_%S\")\n",
    "    return os.path.join(root_logdir, run_id)\n",
    "\n",
    "run_logdir = get_run_logdir() # e.g., './my_logs/run_2019_06_07-15_15_22'\n",
    "\n",
    "tensorboard_cb = keras.callbacks.TensorBoard(run_logdir,histogram_freq=1)\n",
    "\n",
    "\n",
    "early_stopping_cb = keras.callbacks.EarlyStopping(patience=10,\n",
    "                                                  restore_best_weights=True)\n",
    "history = model.fit(x_train, y_train, epochs=100,\n",
    "                    validation_data=(x_test, y_test),\n",
    "                    callbacks=[tensorboard_cb, early_stopping_cb])\n",
    "model.save(\"cov_f_minst.h5\")"
   ]
  },
  {
   "cell_type": "code",
   "execution_count": 5,
   "metadata": {},
   "outputs": [
    {
     "data": {
      "text/plain": [
       "Reusing TensorBoard on port 6006 (pid 5764), started 1:40:40 ago. (Use '!kill 5764' to kill it.)"
      ]
     },
     "metadata": {},
     "output_type": "display_data"
    },
    {
     "data": {
      "text/html": [
       "\n",
       "      <iframe id=\"tensorboard-frame-6bb3faf044710353\" width=\"100%\" height=\"800\" frameborder=\"0\">\n",
       "      </iframe>\n",
       "      <script>\n",
       "        (function() {\n",
       "          const frame = document.getElementById(\"tensorboard-frame-6bb3faf044710353\");\n",
       "          const url = new URL(\"/\", window.location);\n",
       "          url.port = 6006;\n",
       "          frame.src = url;\n",
       "        })();\n",
       "      </script>\n",
       "  "
      ],
      "text/plain": [
       "<IPython.core.display.HTML object>"
      ]
     },
     "metadata": {},
     "output_type": "display_data"
    }
   ],
   "source": [
    "%reload_ext tensorboard\n",
    "%tensorboard --logdir logs"
   ]
  },
  {
   "cell_type": "code",
   "execution_count": null,
   "metadata": {},
   "outputs": [],
   "source": []
  }
 ],
 "metadata": {
  "kernelspec": {
   "display_name": "Python 3",
   "language": "python",
   "name": "python3"
  },
  "language_info": {
   "codemirror_mode": {
    "name": "ipython",
    "version": 3
   },
   "file_extension": ".py",
   "mimetype": "text/x-python",
   "name": "python",
   "nbconvert_exporter": "python",
   "pygments_lexer": "ipython3",
   "version": "3.7.7"
  }
 },
 "nbformat": 4,
 "nbformat_minor": 2
}
