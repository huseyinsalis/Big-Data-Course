{
 "cells": [
  {
   "cell_type": "code",
   "execution_count": 79,
   "metadata": {},
   "outputs": [],
   "source": [
    "import matplotlib.pyplot as plt\n",
    "import pandas as pd\n",
    "import pylab as pl\n",
    "import numpy as np\n",
    "import tensorflow as tf\n",
    "import matplotlib.patches as mpatches\n",
    "import matplotlib.pyplot as plt\n",
    "%matplotlib inline\n",
    "plt.rcParams['figure.figsize'] = (10, 6)"
   ]
  },
  {
   "cell_type": "code",
   "execution_count": 80,
   "metadata": {},
   "outputs": [
    {
     "data": {
      "text/plain": [
       "array([0. , 0.1, 0.2, 0.3, 0.4, 0.5, 0.6, 0.7, 0.8, 0.9, 1. , 1.1, 1.2,\n",
       "       1.3, 1.4, 1.5, 1.6, 1.7, 1.8, 1.9, 2. , 2.1, 2.2, 2.3, 2.4, 2.5,\n",
       "       2.6, 2.7, 2.8, 2.9, 3. , 3.1, 3.2, 3.3, 3.4, 3.5, 3.6, 3.7, 3.8,\n",
       "       3.9, 4. , 4.1, 4.2, 4.3, 4.4, 4.5, 4.6, 4.7, 4.8, 4.9])"
      ]
     },
     "execution_count": 80,
     "metadata": {},
     "output_type": "execute_result"
    }
   ],
   "source": [
    "X = np.arange(0.0, 5.0, 0.1)\n",
    "X"
   ]
  },
  {
   "cell_type": "code",
   "execution_count": 81,
   "metadata": {},
   "outputs": [
    {
     "data": {
      "image/png": "[encoded data removed]",
      "text/plain": [
       "<Figure size 720x432 with 1 Axes>"
      ]
     },
     "metadata": {
      "needs_background": "light"
     },
     "output_type": "display_data"
    }
   ],
   "source": [
    "##You can adjust the slope and intercept to verify the changes in the graph\n",
    "a = 1\n",
    "b = 0\n",
    "\n",
    "Y= a * X + b \n",
    "\n",
    "plt.plot(X, Y) \n",
    "plt.ylabel('Dependent Variable')\n",
    "plt.xlabel('Indepdendent Variable')\n",
    "plt.show()"
   ]
  },
  {
   "cell_type": "code",
   "execution_count": 82,
   "metadata": {},
   "outputs": [],
   "source": [
    "df = pd.read_csv(\"C:/Users/user1/Documents/Tensorflow/Edex IBM TensorFlow/FuelConsumptionCo2.csv\")"
   ]
  },
  {
   "cell_type": "code",
   "execution_count": 83,
   "metadata": {},
   "outputs": [
    {
     "data": {
      "text/html": [
       "<div>\n",
       "<style scoped>\n",
       "    .dataframe tbody tr th:only-of-type {\n",
       "        vertical-align: middle;\n",
       "    }\n",
       "\n",
       "    .dataframe tbody tr th {\n",
       "        vertical-align: top;\n",
       "    }\n",
       "\n",
       "    .dataframe thead th {\n",
       "        text-align: right;\n",
       "    }\n",
       "</style>\n",
       "<table border=\"1\" class=\"dataframe\">\n",
       "  <thead>\n",
       "    <tr style=\"text-align: right;\">\n",
       "      <th></th>\n",
       "      <th>MODELYEAR</th>\n",
       "      <th>MAKE</th>\n",
       "      <th>MODEL</th>\n",
       "      <th>VEHICLECLASS</th>\n",
       "      <th>ENGINESIZE</th>\n",
       "      <th>CYLINDERS</th>\n",
       "      <th>TRANSMISSION</th>\n",
       "      <th>FUELTYPE</th>\n",
       "      <th>FUELCONSUMPTION_CITY</th>\n",
       "      <th>FUELCONSUMPTION_HWY</th>\n",
       "      <th>FUELCONSUMPTION_COMB</th>\n",
       "      <th>FUELCONSUMPTION_COMB_MPG</th>\n",
       "      <th>CO2EMISSIONS</th>\n",
       "    </tr>\n",
       "  </thead>\n",
       "  <tbody>\n",
       "    <tr>\n",
       "      <th>0</th>\n",
       "      <td>2014</td>\n",
       "      <td>ACURA</td>\n",
       "      <td>ILX</td>\n",
       "      <td>COMPACT</td>\n",
       "      <td>2.0</td>\n",
       "      <td>4</td>\n",
       "      <td>AS5</td>\n",
       "      <td>Z</td>\n",
       "      <td>9.9</td>\n",
       "      <td>6.7</td>\n",
       "      <td>8.5</td>\n",
       "      <td>33</td>\n",
       "      <td>196</td>\n",
       "    </tr>\n",
       "    <tr>\n",
       "      <th>1</th>\n",
       "      <td>2014</td>\n",
       "      <td>ACURA</td>\n",
       "      <td>ILX</td>\n",
       "      <td>COMPACT</td>\n",
       "      <td>2.4</td>\n",
       "      <td>4</td>\n",
       "      <td>M6</td>\n",
       "      <td>Z</td>\n",
       "      <td>11.2</td>\n",
       "      <td>7.7</td>\n",
       "      <td>9.6</td>\n",
       "      <td>29</td>\n",
       "      <td>221</td>\n",
       "    </tr>\n",
       "    <tr>\n",
       "      <th>2</th>\n",
       "      <td>2014</td>\n",
       "      <td>ACURA</td>\n",
       "      <td>ILX HYBRID</td>\n",
       "      <td>COMPACT</td>\n",
       "      <td>1.5</td>\n",
       "      <td>4</td>\n",
       "      <td>AV7</td>\n",
       "      <td>Z</td>\n",
       "      <td>6.0</td>\n",
       "      <td>5.8</td>\n",
       "      <td>5.9</td>\n",
       "      <td>48</td>\n",
       "      <td>136</td>\n",
       "    </tr>\n",
       "    <tr>\n",
       "      <th>3</th>\n",
       "      <td>2014</td>\n",
       "      <td>ACURA</td>\n",
       "      <td>MDX 4WD</td>\n",
       "      <td>SUV - SMALL</td>\n",
       "      <td>3.5</td>\n",
       "      <td>6</td>\n",
       "      <td>AS6</td>\n",
       "      <td>Z</td>\n",
       "      <td>12.7</td>\n",
       "      <td>9.1</td>\n",
       "      <td>11.1</td>\n",
       "      <td>25</td>\n",
       "      <td>255</td>\n",
       "    </tr>\n",
       "    <tr>\n",
       "      <th>4</th>\n",
       "      <td>2014</td>\n",
       "      <td>ACURA</td>\n",
       "      <td>RDX AWD</td>\n",
       "      <td>SUV - SMALL</td>\n",
       "      <td>3.5</td>\n",
       "      <td>6</td>\n",
       "      <td>AS6</td>\n",
       "      <td>Z</td>\n",
       "      <td>12.1</td>\n",
       "      <td>8.7</td>\n",
       "      <td>10.6</td>\n",
       "      <td>27</td>\n",
       "      <td>244</td>\n",
       "    </tr>\n",
       "  </tbody>\n",
       "</table>\n",
       "</div>"
      ],
      "text/plain": [
       "   MODELYEAR   MAKE       MODEL VEHICLECLASS  ENGINESIZE  CYLINDERS  \\\n",
       "0       2014  ACURA         ILX      COMPACT         2.0          4   \n",
       "1       2014  ACURA         ILX      COMPACT         2.4          4   \n",
       "2       2014  ACURA  ILX HYBRID      COMPACT         1.5          4   \n",
       "3       2014  ACURA     MDX 4WD  SUV - SMALL         3.5          6   \n",
       "4       2014  ACURA     RDX AWD  SUV - SMALL         3.5          6   \n",
       "\n",
       "  TRANSMISSION FUELTYPE  FUELCONSUMPTION_CITY  FUELCONSUMPTION_HWY  \\\n",
       "0          AS5        Z                   9.9                  6.7   \n",
       "1           M6        Z                  11.2                  7.7   \n",
       "2          AV7        Z                   6.0                  5.8   \n",
       "3          AS6        Z                  12.7                  9.1   \n",
       "4          AS6        Z                  12.1                  8.7   \n",
       "\n",
       "   FUELCONSUMPTION_COMB  FUELCONSUMPTION_COMB_MPG  CO2EMISSIONS  \n",
       "0                   8.5                        33           196  \n",
       "1                   9.6                        29           221  \n",
       "2                   5.9                        48           136  \n",
       "3                  11.1                        25           255  \n",
       "4                  10.6                        27           244  "
      ]
     },
     "execution_count": 83,
     "metadata": {},
     "output_type": "execute_result"
    }
   ],
   "source": [
    "df.head()"
   ]
  },
  {
   "cell_type": "code",
   "execution_count": 84,
   "metadata": {},
   "outputs": [],
   "source": [
    "train_x = np.asanyarray(df[['ENGINESIZE']])\n",
    "train_y = np.asanyarray(df[['CO2EMISSIONS']])"
   ]
  },
  {
   "cell_type": "code",
   "execution_count": 85,
   "metadata": {},
   "outputs": [],
   "source": [
    "a = tf.Variable(20.0)\n",
    "b = tf.Variable(30.2)\n",
    "y = a * train_x + b"
   ]
  },
  {
   "cell_type": "code",
   "execution_count": 86,
   "metadata": {},
   "outputs": [],
   "source": [
    "loss = tf.reduce_mean(tf.square(y - train_y))"
   ]
  },
  {
   "cell_type": "code",
   "execution_count": 87,
   "metadata": {},
   "outputs": [
    {
     "data": {
      "text/plain": [
       "<tf.Tensor 'Mean_3:0' shape=() dtype=float32>"
      ]
     },
     "execution_count": 87,
     "metadata": {},
     "output_type": "execute_result"
    }
   ],
   "source": [
    "loss"
   ]
  },
  {
   "cell_type": "code",
   "execution_count": 88,
   "metadata": {},
   "outputs": [],
   "source": [
    "optimizer = tf.train.GradientDescentOptimizer(0.9)"
   ]
  },
  {
   "cell_type": "code",
   "execution_count": 89,
   "metadata": {},
   "outputs": [],
   "source": [
    "train = optimizer.minimize(loss)"
   ]
  },
  {
   "cell_type": "code",
   "execution_count": 90,
   "metadata": {},
   "outputs": [],
   "source": [
    "init = tf.global_variables_initializer()\n",
    "sess = tf.Session()\n",
    "sess.run(init)"
   ]
  },
  {
   "cell_type": "code",
   "execution_count": 91,
   "metadata": {},
   "outputs": [
    {
     "name": "stdout",
     "output_type": "stream",
     "text": [
      "0 26992.574 1047.2789 316.5849\n",
      "5 1.7951696e+18 -8413300700.0 -2156011500.0\n",
      "10 1.2911993e+32 7.1352622e+16 1.8284966e+16\n",
      "15 inf -6.051382e+23 -1.5507392e+23\n",
      "20 inf 5.132126e+30 1.3151688e+30\n",
      "25 inf -4.3525204e+37 -1.1153864e+37\n",
      "30 nan nan nan\n",
      "35 nan nan nan\n",
      "40 nan nan nan\n",
      "45 nan nan nan\n",
      "50 nan nan nan\n",
      "55 nan nan nan\n",
      "60 nan nan nan\n",
      "65 nan nan nan\n",
      "70 nan nan nan\n",
      "75 nan nan nan\n",
      "80 nan nan nan\n",
      "85 nan nan nan\n",
      "90 nan nan nan\n",
      "95 nan nan nan\n",
      "100 nan nan nan\n",
      "105 nan nan nan\n",
      "110 nan nan nan\n",
      "115 nan nan nan\n",
      "120 nan nan nan\n",
      "125 nan nan nan\n",
      "130 nan nan nan\n",
      "135 nan nan nan\n",
      "140 nan nan nan\n",
      "145 nan nan nan\n",
      "150 nan nan nan\n",
      "155 nan nan nan\n",
      "160 nan nan nan\n",
      "165 nan nan nan\n",
      "170 nan nan nan\n",
      "175 nan nan nan\n",
      "180 nan nan nan\n",
      "185 nan nan nan\n",
      "190 nan nan nan\n",
      "195 nan nan nan\n",
      "200 nan nan nan\n",
      "205 nan nan nan\n",
      "210 nan nan nan\n",
      "215 nan nan nan\n",
      "220 nan nan nan\n",
      "225 nan nan nan\n",
      "230 nan nan nan\n",
      "235 nan nan nan\n",
      "240 nan nan nan\n",
      "245 nan nan nan\n",
      "250 nan nan nan\n",
      "255 nan nan nan\n",
      "260 nan nan nan\n",
      "265 nan nan nan\n",
      "270 nan nan nan\n",
      "275 nan nan nan\n",
      "280 nan nan nan\n",
      "285 nan nan nan\n",
      "290 nan nan nan\n",
      "295 nan nan nan\n",
      "300 nan nan nan\n",
      "305 nan nan nan\n",
      "310 nan nan nan\n",
      "315 nan nan nan\n",
      "320 nan nan nan\n",
      "325 nan nan nan\n",
      "330 nan nan nan\n",
      "335 nan nan nan\n",
      "340 nan nan nan\n",
      "345 nan nan nan\n",
      "350 nan nan nan\n",
      "355 nan nan nan\n",
      "360 nan nan nan\n",
      "365 nan nan nan\n",
      "370 nan nan nan\n",
      "375 nan nan nan\n",
      "380 nan nan nan\n",
      "385 nan nan nan\n",
      "390 nan nan nan\n",
      "395 nan nan nan\n",
      "400 nan nan nan\n",
      "405 nan nan nan\n",
      "410 nan nan nan\n",
      "415 nan nan nan\n",
      "420 nan nan nan\n",
      "425 nan nan nan\n",
      "430 nan nan nan\n",
      "435 nan nan nan\n",
      "440 nan nan nan\n",
      "445 nan nan nan\n",
      "450 nan nan nan\n",
      "455 nan nan nan\n",
      "460 nan nan nan\n",
      "465 nan nan nan\n",
      "470 nan nan nan\n",
      "475 nan nan nan\n",
      "480 nan nan nan\n",
      "485 nan nan nan\n",
      "490 nan nan nan\n",
      "495 nan nan nan\n",
      "500 nan nan nan\n",
      "505 nan nan nan\n",
      "510 nan nan nan\n",
      "515 nan nan nan\n",
      "520 nan nan nan\n",
      "525 nan nan nan\n",
      "530 nan nan nan\n",
      "535 nan nan nan\n",
      "540 nan nan nan\n",
      "545 nan nan nan\n",
      "550 nan nan nan\n",
      "555 nan nan nan\n",
      "560 nan nan nan\n",
      "565 nan nan nan\n",
      "570 nan nan nan\n",
      "575 nan nan nan\n",
      "580 nan nan nan\n",
      "585 nan nan nan\n",
      "590 nan nan nan\n",
      "595 nan nan nan\n",
      "600 nan nan nan\n",
      "605 nan nan nan\n",
      "610 nan nan nan\n",
      "615 nan nan nan\n",
      "620 nan nan nan\n",
      "625 nan nan nan\n",
      "630 nan nan nan\n",
      "635 nan nan nan\n",
      "640 nan nan nan\n",
      "645 nan nan nan\n",
      "650 nan nan nan\n",
      "655 nan nan nan\n",
      "660 nan nan nan\n",
      "665 nan nan nan\n",
      "670 nan nan nan\n",
      "675 nan nan nan\n",
      "680 nan nan nan\n",
      "685 nan nan nan\n",
      "690 nan nan nan\n",
      "695 nan nan nan\n",
      "700 nan nan nan\n",
      "705 nan nan nan\n",
      "710 nan nan nan\n",
      "715 nan nan nan\n",
      "720 nan nan nan\n",
      "725 nan nan nan\n",
      "730 nan nan nan\n",
      "735 nan nan nan\n",
      "740 nan nan nan\n",
      "745 nan nan nan\n",
      "750 nan nan nan\n",
      "755 nan nan nan\n",
      "760 nan nan nan\n",
      "765 nan nan nan\n",
      "770 nan nan nan\n",
      "775 nan nan nan\n",
      "780 nan nan nan\n",
      "785 nan nan nan\n",
      "790 nan nan nan\n",
      "795 nan nan nan\n",
      "800 nan nan nan\n",
      "805 nan nan nan\n",
      "810 nan nan nan\n",
      "815 nan nan nan\n",
      "820 nan nan nan\n",
      "825 nan nan nan\n",
      "830 nan nan nan\n",
      "835 nan nan nan\n",
      "840 nan nan nan\n",
      "845 nan nan nan\n",
      "850 nan nan nan\n",
      "855 nan nan nan\n",
      "860 nan nan nan\n",
      "865 nan nan nan\n",
      "870 nan nan nan\n",
      "875 nan nan nan\n",
      "880 nan nan nan\n",
      "885 nan nan nan\n",
      "890 nan nan nan\n",
      "895 nan nan nan\n",
      "900 nan nan nan\n",
      "905 nan nan nan\n",
      "910 nan nan nan\n",
      "915 nan nan nan\n",
      "920 nan nan nan\n",
      "925 nan nan nan\n",
      "930 nan nan nan\n",
      "935 nan nan nan\n",
      "940 nan nan nan\n",
      "945 nan nan nan\n",
      "950 nan nan nan\n",
      "955 nan nan nan\n",
      "960 nan nan nan\n",
      "965 nan nan nan\n",
      "970 nan nan nan\n",
      "975 nan nan nan\n",
      "980 nan nan nan\n",
      "985 nan nan nan\n",
      "990 nan nan nan\n",
      "995 nan nan nan\n"
     ]
    }
   ],
   "source": [
    "loss_values = []\n",
    "train_data = []\n",
    "for step in range(1000):\n",
    "    _, loss_val, a_val, b_val = sess.run([train, loss, a, b])\n",
    "    loss_values.append(loss_val)\n",
    "    if step % 5 == 0:\n",
    "        print(step, loss_val, a_val, b_val)\n",
    "        train_data.append([a_val, b_val])"
   ]
  },
  {
   "cell_type": "code",
   "execution_count": 92,
   "metadata": {},
   "outputs": [
    {
     "data": {
      "text/plain": [
       "[<matplotlib.lines.Line2D at 0x28981e41668>]"
      ]
     },
     "execution_count": 92,
     "metadata": {},
     "output_type": "execute_result"
    },
    {
     "data": {
      "image/png": "[encoded data removed]",
      "text/plain": [
       "<Figure size 720x432 with 1 Axes>"
      ]
     },
     "metadata": {
      "needs_background": "light"
     },
     "output_type": "display_data"
    }
   ],
   "source": [
    "plt.plot(loss_values, 'ro')"
   ]
  },
  {
   "cell_type": "code",
   "execution_count": 61,
   "metadata": {},
   "outputs": [
    {
     "data": {
      "image/png": "[encoded data removed]",
      "text/plain": [
       "<Figure size 720x432 with 1 Axes>"
      ]
     },
     "metadata": {
      "needs_background": "light"
     },
     "output_type": "display_data"
    }
   ],
   "source": [
    "cr, cg, cb = (1.0, 1.0, 0.0)\n",
    "for f in train_data:\n",
    "    cb += 1.0 / len(train_data)\n",
    "    cg -= 1.0 / len(train_data)\n",
    "    if cb > 1.0: cb = 1.0\n",
    "    if cg < 0.0: cg = 0.0\n",
    "    [a, b] = f\n",
    "    f_y = np.vectorize(lambda x: a*x + b)(train_x)\n",
    "    line = plt.plot(train_x, f_y)\n",
    "    plt.setp(line, color=(cr,cg,cb))\n",
    "\n",
    "plt.plot(train_x, train_y, 'ro')\n",
    "\n",
    "\n",
    "green_line = mpatches.Patch(color='red', label='Data Points')\n",
    "\n",
    "plt.legend(handles=[green_line])\n",
    "\n",
    "plt.show()"
   ]
  },
  {
   "cell_type": "code",
   "execution_count": 30,
   "metadata": {},
   "outputs": [
    {
     "data": {
      "text/plain": [
       "array([[2. ],\n",
       "       [2.4],\n",
       "       [1.5],\n",
       "       ...,\n",
       "       [3. ],\n",
       "       [3.2],\n",
       "       [3.2]])"
      ]
     },
     "execution_count": 30,
     "metadata": {},
     "output_type": "execute_result"
    }
   ],
   "source": [
    "train_x"
   ]
  },
  {
   "cell_type": "code",
   "execution_count": 78,
   "metadata": {},
   "outputs": [
    {
     "name": "stdout",
     "output_type": "stream",
     "text": [
      "Once deleted, variables cannot be recovered. Proceed (y/[n])? y\n"
     ]
    }
   ],
   "source": [
    "%reset"
   ]
  },
  {
   "cell_type": "code",
   "execution_count": null,
   "metadata": {},
   "outputs": [],
   "source": []
  }
 ],
 "metadata": {
  "kernelspec": {
   "display_name": "Python 3",
   "language": "python",
   "name": "python3"
  },
  "language_info": {
   "codemirror_mode": {
    "name": "ipython",
    "version": 3
   },
   "file_extension": ".py",
   "mimetype": "text/x-python",
   "name": "python",
   "nbconvert_exporter": "python",
   "pygments_lexer": "ipython3",
   "version": "3.6.10"
  }
 },
 "nbformat": 4,
 "nbformat_minor": 2
}
