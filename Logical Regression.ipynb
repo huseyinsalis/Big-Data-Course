{
 "cells": [
  {
   "cell_type": "code",
   "execution_count": 1,
   "metadata": {},
   "outputs": [],
   "source": [
    "import tensorflow as tf\n",
    "import pandas as pd\n",
    "import numpy as np\n",
    "import time\n",
    "from sklearn.datasets import load_iris\n",
    "from sklearn.model_selection import train_test_split\n",
    "import matplotlib.pyplot as plt"
   ]
  },
  {
   "cell_type": "code",
   "execution_count": 13,
   "metadata": {},
   "outputs": [],
   "source": [
    "iris = load_iris()\n",
    "iris_X, iris_y = iris.data[:-1,:], iris.target[:-1]\n",
    "iris_y= pd.get_dummies(iris_y).values\n",
    "trainX, testX, trainY, testY = train_test_split(iris_X, iris_y, test_size=0.33, random_state=42)"
   ]
  },
  {
   "cell_type": "code",
   "execution_count": 14,
   "metadata": {},
   "outputs": [],
   "source": [
    "# numFeatures is the number of features in our input data.\n",
    "# In the iris dataset, this number is '4'.\n",
    "numFeatures = trainX.shape[1]\n",
    "\n",
    "# numLabels is the number of classes our data points can be in.\n",
    "# In the iris dataset, this number is '3'.\n",
    "numLabels = trainY.shape[1]\n",
    "\n",
    "\n",
    "# Placeholders\n",
    "# 'None' means TensorFlow shouldn't expect a fixed number in that dimension\n",
    "X = tf.placeholder(tf.float32, [None, numFeatures]) # Iris has 4 features, so X is a tensor to hold our data.\n",
    "yGold = tf.placeholder(tf.float32, [None, numLabels]) # This will be our correct answers matrix for 3 classes."
   ]
  },
  {
   "cell_type": "code",
   "execution_count": 21,
   "metadata": {},
   "outputs": [],
   "source": [
    "W = tf.Variable(tf.zeros([4, 3]))  # 4-dimensional input and  3 classes\n",
    "b = tf.Variable(tf.zeros([3])) # 3-dimensional output [0,0,1],[0,1,0],[1,0,0]"
   ]
  },
  {
   "cell_type": "code",
   "execution_count": 22,
   "metadata": {},
   "outputs": [],
   "source": [
    "#Randomly sample from a normal distribution with standard deviation .01\n",
    "\n",
    "weights = tf.Variable(tf.random_normal([numFeatures,numLabels],\n",
    "                                       mean=0,\n",
    "                                       stddev=0.01,\n",
    "                                       name=\"weights\"))\n",
    "\n",
    "bias = tf.Variable(tf.random_normal([1,numLabels],\n",
    "                                    mean=0,\n",
    "                                    stddev=0.01,\n",
    "                                    name=\"bias\"))"
   ]
  },
  {
   "cell_type": "raw",
   "metadata": {},
   "source": [
    "apply_weights_OP = tf.matmul(X, weights, name=\"apply_weights\")\n",
    "add_bias_OP = tf.add(apply_weights_OP, bias, name=\"add_bias\") \n",
    "activation_OP = tf.nn.sigmoid(add_bias_OP, name=\"activation\")"
   ]
  },
  {
   "cell_type": "code",
   "execution_count": 35,
   "metadata": {},
   "outputs": [],
   "source": [
    "apply_weights_OP = tf.matmul(X, weights, name=\"apply_weights\")\n",
    "add_bias_OP = tf.add(apply_weights_OP, bias, name=\"add_bias\") \n",
    "activation_OP = tf.nn.sigmoid(add_bias_OP, name=\"activation\")"
   ]
  },
  {
   "cell_type": "code",
   "execution_count": 36,
   "metadata": {},
   "outputs": [],
   "source": [
    "# Number of Epochs in our training\n",
    "numEpochs = 700\n",
    "\n",
    "# Defining our learning rate iterations (decay)\n",
    "learningRate = tf.train.exponential_decay(learning_rate=0.0008,\n",
    "                                          global_step= 1,\n",
    "                                          decay_steps=trainX.shape[0],\n",
    "                                          decay_rate= 0.95,\n",
    "                                          staircase=True)"
   ]
  },
  {
   "cell_type": "code",
   "execution_count": 37,
   "metadata": {},
   "outputs": [],
   "source": [
    "#Defining our cost function - Squared Mean Error\n",
    "cost_OP = tf.nn.l2_loss(activation_OP - yGold, name=\"squared_error_cost\")\n",
    "\n",
    "#Defining our Gradient Descent\n",
    "training_OP = tf.train.GradientDescentOptimizer(learningRate).minimize(cost_OP)"
   ]
  },
  {
   "cell_type": "code",
   "execution_count": 38,
   "metadata": {},
   "outputs": [
    {
     "data": {
      "text/plain": [
       "<tf.Tensor 'activation:0' shape=(?, 3) dtype=float32>"
      ]
     },
     "execution_count": 38,
     "metadata": {},
     "output_type": "execute_result"
    }
   ],
   "source": [
    "activation_OP"
   ]
  },
  {
   "cell_type": "code",
   "execution_count": 39,
   "metadata": {},
   "outputs": [],
   "source": [
    "# Create a tensorflow session\n",
    "sess = tf.Session()\n",
    "\n",
    "# Initialize our weights and biases variables.\n",
    "init_OP = tf.global_variables_initializer()\n",
    "\n",
    "# Initialize all tensorflow variables\n",
    "sess.run(init_OP)"
   ]
  },
  {
   "cell_type": "code",
   "execution_count": 40,
   "metadata": {},
   "outputs": [],
   "source": [
    "# argmax(activation_OP, 1) returns the label with the most probability\n",
    "# argmax(yGold, 1) is the correct label\n",
    "correct_predictions_OP = tf.equal(tf.argmax(activation_OP,1),tf.argmax(yGold,1))\n",
    "\n",
    "# If every false prediction is 0 and every true prediction is 1, the average returns us the accuracy\n",
    "accuracy_OP = tf.reduce_mean(tf.cast(correct_predictions_OP, \"float\"))\n",
    "\n",
    "# Summary op for regression output\n",
    "activation_summary_OP = tf.summary.histogram(\"output\", activation_OP)\n",
    "\n",
    "# Summary op for accuracy\n",
    "accuracy_summary_OP = tf.summary.scalar(\"accuracy\", accuracy_OP)\n",
    "\n",
    "# Summary op for cost\n",
    "cost_summary_OP = tf.summary.scalar(\"cost\", cost_OP)\n",
    "\n",
    "# Summary ops to check how variables (W, b) are updating after each iteration\n",
    "weightSummary = tf.summary.histogram(\"weights\", weights.eval(session=sess))\n",
    "biasSummary = tf.summary.histogram(\"biases\", bias.eval(session=sess))\n",
    "\n",
    "# Merge all summaries\n",
    "merged = tf.summary.merge([activation_summary_OP, accuracy_summary_OP, cost_summary_OP, weightSummary, biasSummary])\n",
    "\n",
    "# Summary writer\n",
    "writer = tf.summary.FileWriter(\"summary_logs\", sess.graph)"
   ]
  },
  {
   "cell_type": "code",
   "execution_count": 41,
   "metadata": {},
   "outputs": [
    {
     "name": "stdout",
     "output_type": "stream",
     "text": [
      "step 0, training accuracy 0.333333, cost 33.9598, change in cost 33.9598\n",
      "step 10, training accuracy 0.606061, cost 30.0099, change in cost 3.94996\n",
      "step 20, training accuracy 0.646465, cost 28.0715, change in cost 1.93839\n",
      "step 30, training accuracy 0.646465, cost 26.4393, change in cost 1.63216\n",
      "step 40, training accuracy 0.646465, cost 25.0852, change in cost 1.35408\n",
      "step 50, training accuracy 0.646465, cost 23.9674, change in cost 1.11786\n",
      "step 60, training accuracy 0.646465, cost 23.0423, change in cost 0.925114\n",
      "step 70, training accuracy 0.646465, cost 22.2715, change in cost 0.770781\n",
      "step 80, training accuracy 0.646465, cost 21.6235, change in cost 0.648016\n",
      "step 90, training accuracy 0.646465, cost 21.0732, change in cost 0.550255\n",
      "step 100, training accuracy 0.656566, cost 20.6012, change in cost 0.472008\n",
      "step 110, training accuracy 0.666667, cost 20.1923, change in cost 0.408924\n",
      "step 120, training accuracy 0.666667, cost 19.8346, change in cost 0.357639\n",
      "step 130, training accuracy 0.666667, cost 19.5191, change in cost 0.315563\n",
      "step 140, training accuracy 0.666667, cost 19.2383, change in cost 0.280764\n",
      "step 150, training accuracy 0.666667, cost 18.9866, change in cost 0.251715\n",
      "step 160, training accuracy 0.676768, cost 18.7593, change in cost 0.22727\n",
      "step 170, training accuracy 0.686869, cost 18.5528, change in cost 0.206539\n",
      "step 180, training accuracy 0.69697, cost 18.364, change in cost 0.188828\n",
      "step 190, training accuracy 0.707071, cost 18.1904, change in cost 0.173592\n",
      "step 200, training accuracy 0.717172, cost 18.03, change in cost 0.160395\n",
      "step 210, training accuracy 0.737374, cost 17.8811, change in cost 0.148891\n",
      "step 220, training accuracy 0.737374, cost 17.7423, change in cost 0.138805\n",
      "step 230, training accuracy 0.747475, cost 17.6124, change in cost 0.129917\n",
      "step 240, training accuracy 0.757576, cost 17.4903, change in cost 0.122044\n",
      "step 250, training accuracy 0.767677, cost 17.3753, change in cost 0.115025\n",
      "step 260, training accuracy 0.787879, cost 17.2666, change in cost 0.108746\n",
      "step 270, training accuracy 0.787879, cost 17.1634, change in cost 0.103109\n",
      "step 280, training accuracy 0.787879, cost 17.0654, change in cost 0.0980167\n",
      "step 290, training accuracy 0.787879, cost 16.972, change in cost 0.0934048\n",
      "step 300, training accuracy 0.79798, cost 16.8828, change in cost 0.0892086\n",
      "step 310, training accuracy 0.79798, cost 16.7974, change in cost 0.0853748\n",
      "step 320, training accuracy 0.79798, cost 16.7156, change in cost 0.0818748\n",
      "step 330, training accuracy 0.79798, cost 16.6369, change in cost 0.0786457\n",
      "step 340, training accuracy 0.808081, cost 16.5612, change in cost 0.0756817\n",
      "step 350, training accuracy 0.828283, cost 16.4883, change in cost 0.0729351\n",
      "step 360, training accuracy 0.828283, cost 16.4179, change in cost 0.0703945\n",
      "step 370, training accuracy 0.838384, cost 16.3499, change in cost 0.0680218\n",
      "step 380, training accuracy 0.838384, cost 16.2841, change in cost 0.0658226\n",
      "step 390, training accuracy 0.848485, cost 16.2203, change in cost 0.0637665\n",
      "step 400, training accuracy 0.848485, cost 16.1585, change in cost 0.0618362\n",
      "step 410, training accuracy 0.848485, cost 16.0984, change in cost 0.0600319\n",
      "step 420, training accuracy 0.848485, cost 16.0401, change in cost 0.0583305\n",
      "step 430, training accuracy 0.858586, cost 15.9834, change in cost 0.0567331\n",
      "step 440, training accuracy 0.868687, cost 15.9281, change in cost 0.0552225\n",
      "step 450, training accuracy 0.868687, cost 15.8744, change in cost 0.0537939\n",
      "step 460, training accuracy 0.878788, cost 15.8219, change in cost 0.0524445\n",
      "step 470, training accuracy 0.878788, cost 15.7707, change in cost 0.0511599\n",
      "step 480, training accuracy 0.878788, cost 15.7208, change in cost 0.0499401\n",
      "step 490, training accuracy 0.878788, cost 15.672, change in cost 0.0487814\n",
      "step 500, training accuracy 0.878788, cost 15.6243, change in cost 0.047678\n",
      "step 510, training accuracy 0.878788, cost 15.5777, change in cost 0.0466242\n",
      "step 520, training accuracy 0.878788, cost 15.5321, change in cost 0.0456171\n",
      "step 530, training accuracy 0.888889, cost 15.4875, change in cost 0.0446529\n",
      "step 540, training accuracy 0.89899, cost 15.4437, change in cost 0.0437288\n",
      "step 550, training accuracy 0.89899, cost 15.4009, change in cost 0.0428448\n",
      "step 560, training accuracy 0.89899, cost 15.3589, change in cost 0.041997\n",
      "step 570, training accuracy 0.89899, cost 15.3177, change in cost 0.0411816\n",
      "step 580, training accuracy 0.89899, cost 15.2773, change in cost 0.0403957\n",
      "step 590, training accuracy 0.909091, cost 15.2377, change in cost 0.0396404\n",
      "step 600, training accuracy 0.909091, cost 15.1987, change in cost 0.0389147\n",
      "step 610, training accuracy 0.909091, cost 15.1605, change in cost 0.0382099\n",
      "step 620, training accuracy 0.909091, cost 15.123, change in cost 0.0375338\n",
      "step 630, training accuracy 0.909091, cost 15.0861, change in cost 0.0368776\n",
      "step 640, training accuracy 0.909091, cost 15.0499, change in cost 0.0362463\n",
      "step 650, training accuracy 0.909091, cost 15.0142, change in cost 0.0356379\n",
      "step 660, training accuracy 0.909091, cost 14.9792, change in cost 0.0350418\n",
      "step 670, training accuracy 0.909091, cost 14.9447, change in cost 0.0344696\n",
      "step 680, training accuracy 0.909091, cost 14.9108, change in cost 0.0339117\n",
      "step 690, training accuracy 0.909091, cost 14.8774, change in cost 0.0333738\n",
      "final accuracy on test set: 0.9\n"
     ]
    }
   ],
   "source": [
    "# Initialize reporting variables\n",
    "cost = 0\n",
    "diff = 1\n",
    "epoch_values = []\n",
    "accuracy_values = []\n",
    "cost_values = []\n",
    "\n",
    "# Training epochs\n",
    "for i in range(numEpochs):\n",
    "    if i > 1 and diff < .0001:\n",
    "        print(\"change in cost %g; convergence.\"%diff)\n",
    "        break\n",
    "    else:\n",
    "        # Run training step\n",
    "        step = sess.run(training_OP, feed_dict={X: trainX, yGold: trainY})\n",
    "        # Report occasional stats\n",
    "        if i % 10 == 0:\n",
    "            # Add epoch to epoch_values\n",
    "            epoch_values.append(i)\n",
    "            # Generate accuracy stats on test data\n",
    "            train_accuracy, newCost = sess.run([accuracy_OP, cost_OP], feed_dict={X: trainX, yGold: trainY})\n",
    "            # Add accuracy to live graphing variable\n",
    "            accuracy_values.append(train_accuracy)\n",
    "            # Add cost to live graphing variable\n",
    "            cost_values.append(newCost)\n",
    "            # Re-assign values for variables\n",
    "            diff = abs(newCost - cost)\n",
    "            cost = newCost\n",
    "\n",
    "            #generate print statements\n",
    "            print(\"step %d, training accuracy %g, cost %g, change in cost %g\"%(i, train_accuracy, newCost, diff))\n",
    "\n",
    "\n",
    "# How well do we perform on held-out test data?\n",
    "print(\"final accuracy on test set: %s\" %str(sess.run(accuracy_OP, \n",
    "                                                     feed_dict={X: testX, \n",
    "                                                                yGold: testY})))"
   ]
  },
  {
   "cell_type": "code",
   "execution_count": 42,
   "metadata": {},
   "outputs": [
    {
     "name": "stderr",
     "output_type": "stream",
     "text": [
      "C:\\Users\\user1\\.conda\\envs\\tensorflow_env\\lib\\site-packages\\numpy\\core\\fromnumeric.py:3257: RuntimeWarning: Mean of empty slice.\n",
      "  out=out, **kwargs)\n",
      "C:\\Users\\user1\\.conda\\envs\\tensorflow_env\\lib\\site-packages\\numpy\\core\\_methods.py:161: RuntimeWarning: invalid value encountered in double_scalars\n",
      "  ret = ret.dtype.type(ret / rcount)\n"
     ]
    },
    {
     "data": {
      "image/png": "[encoded data removed]",
      "text/plain": [
       "<Figure size 432x288 with 1 Axes>"
      ]
     },
     "metadata": {
      "needs_background": "light"
     },
     "output_type": "display_data"
    }
   ],
   "source": [
    "%matplotlib inline\n",
    "import numpy as np\n",
    "import matplotlib.pyplot as plt\n",
    "plt.plot([np.mean(cost_values[i-50:i]) for i in range(len(cost_values))])\n",
    "plt.show()"
   ]
  },
  {
   "cell_type": "code",
   "execution_count": 43,
   "metadata": {},
   "outputs": [
    {
     "name": "stdout",
     "output_type": "stream",
     "text": [
      "Once deleted, variables cannot be recovered. Proceed (y/[n])? y\n"
     ]
    }
   ],
   "source": [
    "%reset"
   ]
  },
  {
   "cell_type": "code",
   "execution_count": 44,
   "metadata": {},
   "outputs": [
    {
     "data": {
      "text/plain": [
       "[8, 0, 2, 10, 12]"
      ]
     },
     "execution_count": 44,
     "metadata": {},
     "output_type": "execute_result"
    }
   ],
   "source": [
    "def apply_to_list(some_list, f):    \n",
    "    return [f(x) for x in some_list]\n",
    "ints = [4, 0, 1, 5, 6] \n",
    "apply_to_list(ints, lambda x: x * 2) "
   ]
  },
  {
   "cell_type": "code",
   "execution_count": null,
   "metadata": {},
   "outputs": [],
   "source": []
  }
 ],
 "metadata": {
  "kernelspec": {
   "display_name": "Python 3",
   "language": "python",
   "name": "python3"
  },
  "language_info": {
   "codemirror_mode": {
    "name": "ipython",
    "version": 3
   },
   "file_extension": ".py",
   "mimetype": "text/x-python",
   "name": "python",
   "nbconvert_exporter": "python",
   "pygments_lexer": "ipython3",
   "version": "3.6.10"
  }
 },
 "nbformat": 4,
 "nbformat_minor": 2
}
